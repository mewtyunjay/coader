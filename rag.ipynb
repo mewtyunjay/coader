{
 "cells": [
  {
   "cell_type": "code",
   "execution_count": 1,
   "metadata": {},
   "outputs": [
    {
     "name": "stderr",
     "output_type": "stream",
     "text": [
      "USER_AGENT environment variable not set, consider setting it to identify your requests.\n"
     ]
    }
   ],
   "source": [
    "import ollama\n",
    "import bs4\n",
    "from langchain.text_splitter import RecursiveCharacterTextSplitter\n",
    "from langchain_community.document_loaders import WebBaseLoader\n",
    "from langchain_community.vectorstores import Chroma\n",
    "from langchain_community.embeddings import OllamaEmbeddings\n",
    "from langchain_core.output_parsers import StrOutputParser\n",
    "from langchain_core.runnables import RunnablePassthrough\n"
   ]
  },
  {
   "cell_type": "code",
   "execution_count": 4,
   "metadata": {},
   "outputs": [],
   "source": [
    "loader = WebBaseLoader(\n",
    "    web_paths=(\"https://www.google.com\",),\n",
    "    bs_kwargs=dict(\n",
    "        parse_only=bs4.SoupStrainer(\n",
    "            class_=(\"post-content\", \"post-title\", \"post-header\")\n",
    "        )\n",
    "    ),\n",
    ")\n",
    "docs = loader.load()\n",
    "text_splitter = RecursiveCharacterTextSplitter(chunk_size=1000, chunk_overlap=200)\n",
    "splits = text_splitter.split_documents(docs)"
   ]
  },
  {
   "cell_type": "code",
   "execution_count": 5,
   "metadata": {},
   "outputs": [
    {
     "data": {
      "text/plain": [
       "[]"
      ]
     },
     "execution_count": 5,
     "metadata": {},
     "output_type": "execute_result"
    }
   ],
   "source": [
    "splits"
   ]
  },
  {
   "cell_type": "code",
   "execution_count": 35,
   "metadata": {},
   "outputs": [
    {
     "name": "stderr",
     "output_type": "stream",
     "text": [
      "/opt/miniconda3/envs/rag/lib/python3.11/site-packages/urllib3/connectionpool.py:1103: InsecureRequestWarning: Unverified HTTPS request is being made to host 'python.langchain.com'. Adding certificate verification is strongly advised. See: https://urllib3.readthedocs.io/en/latest/advanced-usage.html#tls-warnings\n",
      "  warnings.warn(\n"
     ]
    }
   ],
   "source": [
    "loader = WebBaseLoader(\"https://python.langchain.com/v0.2/docs/integrations/vectorstores/pinecone/\")\n",
    "loader.requests_kwargs = {'verify':False}\n",
    "loader.requests_kwargs = {dict(parse)}\n",
    "data = loader.load()\n",
    "text_splitter = RecursiveCharacterTextSplitter(chunk_size=1000, chunk_overlap=200)\n",
    "splits = text_splitter.split_documents(data)"
   ]
  },
  {
   "cell_type": "code",
   "execution_count": 36,
   "metadata": {},
   "outputs": [
    {
     "data": {
      "text/plain": [
       "[Document(page_content='Pinecone | \\uf8ffü¶úÔ∏è\\uf8ffüîó LangChain', metadata={'source': 'https://python.langchain.com/v0.2/docs/integrations/vectorstores/pinecone/', 'title': 'Pinecone | \\uf8ffü¶úÔ∏è\\uf8ffüîó LangChain', 'description': 'Pinecone is a vector database with broad functionality.', 'language': 'en'}),\n",
       " Document(page_content='Skip to main contentLangChain 0.2 is out! Leave feedback on the v0.2 docs here. You can view the v0.1 docs here.IntegrationsAPI ReferenceMorePeopleContributingTemplatesCookbooks3rd party tutorialsYouTubearXivv0.2v0.2v0.1\\uf8ffü¶úÔ∏è\\uf8ffüîóLangSmithLangSmith DocsLangServe GitHubTemplates GitHubTemplates HubLangChain HubJS/TS Docs\\uf8ffüí¨SearchProvidersProvidersAnthropicAWSGoogleHugging FaceMicrosoftOpenAIMoreComponentsChat modelsLLMsEmbedding modelsDocument loadersDocument transformersVector storesActiveloop Deep LakeAerospikeAlibaba Cloud OpenSearchAnalyticDBAnnoyApache DorisAstra DBAtlasAwaDBAzure Cosmos DB Mongo vCoreAzure Cosmos DB No SQLAzure AI SearchBagelBagelDBBaidu Cloud ElasticSearch VectorSearchBaidu VectorDBApache CassandraChromaClarifaiClickHouseCouchbaseDashVectorDatabricks Vector SearchDingoDBDocArray HnswSearchDocArray InMemorySearchAmazon Document DBDuckDBChina Mobile ECloud ElasticSearch VectorSearchElasticsearchEpsillaFaissFaiss (Async)Google AlloyDB for PostgreSQLGoogle', metadata={'source': 'https://python.langchain.com/v0.2/docs/integrations/vectorstores/pinecone/', 'title': 'Pinecone | \\uf8ffü¶úÔ∏è\\uf8ffüîó LangChain', 'description': 'Pinecone is a vector database with broad functionality.', 'language': 'en'}),\n",
       " Document(page_content=\"SearchDingoDBDocArray HnswSearchDocArray InMemorySearchAmazon Document DBDuckDBChina Mobile ECloud ElasticSearch VectorSearchElasticsearchEpsillaFaissFaiss (Async)Google AlloyDB for PostgreSQLGoogle BigQuery Vector SearchGoogle Cloud SQL for MySQLGoogle Cloud SQL for PostgreSQLFirestoreGoogle Memorystore for RedisGoogle SpannerGoogle Vertex AI Vector SearchHippoHologresInfinispanJaguar Vector DatabaseKDB.AIKineticaLanceDBLanternLLMRailsManticoreSearch VectorStoreMarqoMeilisearchMilvusMomento Vector Index (MVI)MongoDB AtlasMyScaleNeo4j Vector IndexNucliaDBOpenSearchOracle AI Vector Search: Vector StorePathwayPostgres EmbeddingPGVecto.rsPGVectorPineconeQdrantRedisRelytRocksetSAP HANA Cloud Vector EngineScaNNSemaDBSingleStoreDBscikit-learnSQLite-VSSStarRocksSupabase (Postgres)SurrealDBTairTencent Cloud VectorDBThirdAI NeuralDBTiDB VectorTigrisTileDBTimescale Vector (Postgres)TypesenseUpstash VectorUSearchValdIntel's Visual Data Management System (VDMS)VearchVectaraVespaviking\", metadata={'source': 'https://python.langchain.com/v0.2/docs/integrations/vectorstores/pinecone/', 'title': 'Pinecone | \\uf8ffü¶úÔ∏è\\uf8ffüîó LangChain', 'description': 'Pinecone is a vector database with broad functionality.', 'language': 'en'}),\n",
       " Document(page_content=\"Cloud VectorDBThirdAI NeuralDBTiDB VectorTigrisTileDBTimescale Vector (Postgres)TypesenseUpstash VectorUSearchValdIntel's Visual Data Management System (VDMS)VearchVectaraVespaviking DBvliteWeaviateXataYellowbrickZepZep CloudZillizRetrieversToolsToolkitsMemoryGraphsCallbacksChat loadersAdaptersStoresModel cachesComponentsVector storesPineconeOn this pagePineconePinecone is a vector database with broad functionality.This notebook shows how to use functionality related to the Pinecone vector database.Set the following environment variables to follow along in this doc:OPENAI_API_KEY: Your OpenAI API key, for using OpenAIEmbeddings%pip install --upgrade --quiet  \\\\    langchain-pinecone \\\\    langchain-openai \\\\    langchain \\\\    langchain-community \\\\    pinecone-notebooksMigration note: if you are migrating from the langchain_community.vectorstores implementation of Pinecone, you may need to remove your pinecone-client v2 dependency before installing langchain-pinecone, which relies on\", metadata={'source': 'https://python.langchain.com/v0.2/docs/integrations/vectorstores/pinecone/', 'title': 'Pinecone | \\uf8ffü¶úÔ∏è\\uf8ffüîó LangChain', 'description': 'Pinecone is a vector database with broad functionality.', 'language': 'en'}),\n",
       " Document(page_content='you are migrating from the langchain_community.vectorstores implementation of Pinecone, you may need to remove your pinecone-client v2 dependency before installing langchain-pinecone, which relies on pinecone-client v3.First, let\\'s split our state of the union document into chunked docs.from langchain_community.document_loaders import TextLoaderfrom langchain_openai import OpenAIEmbeddingsfrom langchain_text_splitters import CharacterTextSplitterloader = TextLoader(\"../../how_to/state_of_the_union.txt\")documents = loader.load()text_splitter = CharacterTextSplitter(chunk_size=1000, chunk_overlap=0)docs = text_splitter.split_documents(documents)embeddings = OpenAIEmbeddings()API Reference:TextLoader | OpenAIEmbeddings | CharacterTextSplitterNow let\\'s create a new Pinecone account, or sign into your existing one, and create an API key to use in this notebook.from pinecone_notebooks.colab import AuthenticateAuthenticate()The newly created API key has been stored in the PINECONE_API_KEY', metadata={'source': 'https://python.langchain.com/v0.2/docs/integrations/vectorstores/pinecone/', 'title': 'Pinecone | \\uf8ffü¶úÔ∏è\\uf8ffüîó LangChain', 'description': 'Pinecone is a vector database with broad functionality.', 'language': 'en'}),\n",
       " Document(page_content='into your existing one, and create an API key to use in this notebook.from pinecone_notebooks.colab import AuthenticateAuthenticate()The newly created API key has been stored in the PINECONE_API_KEY environment variable. We will use it to setup the Pinecone client.import ospinecone_api_key = os.environ.get(\"PINECONE_API_KEY\")pinecone_api_keyimport timefrom pinecone import Pinecone, ServerlessSpecpc = Pinecone(api_key=pinecone_api_key)Next, let\\'s connect to your Pinecone index. If one named index_name doesn\\'t exist, it will be created.import timeindex_name = \"langchain-index\"  # change if desiredexisting_indexes = [index_info[\"name\"] for index_info in pc.list_indexes()]if index_name not in existing_indexes:    pc.create_index(        name=index_name,        dimension=1536,        metric=\"cosine\",        spec=ServerlessSpec(cloud=\"aws\", region=\"us-east-1\"),    )    while not pc.describe_index(index_name).status[\"ready\"]:        time.sleep(1)index = pc.Index(index_name)Now that our', metadata={'source': 'https://python.langchain.com/v0.2/docs/integrations/vectorstores/pinecone/', 'title': 'Pinecone | \\uf8ffü¶úÔ∏è\\uf8ffüîó LangChain', 'description': 'Pinecone is a vector database with broad functionality.', 'language': 'en'}),\n",
       " Document(page_content='spec=ServerlessSpec(cloud=\"aws\", region=\"us-east-1\"),    )    while not pc.describe_index(index_name).status[\"ready\"]:        time.sleep(1)index = pc.Index(index_name)Now that our Pinecone index is setup, we can upsert those chunked docs as contents with PineconeVectorStore.from_documents.from langchain_pinecone import PineconeVectorStoredocsearch = PineconeVectorStore.from_documents(docs, embeddings, index_name=index_name)API Reference:PineconeVectorStorequery = \"What did the president say about Ketanji Brown Jackson\"docs = docsearch.similarity_search(query)print(docs[0].page_content)Tonight. I call on the Senate to: Pass the Freedom to Vote Act. Pass the John Lewis Voting Rights Act. And while you‚Äôre at it, pass the Disclose Act so Americans can know who is funding our elections. Tonight, I‚Äôd like to honor someone who has dedicated his life to serve this country: Justice Stephen Breyer‚Äîan Army veteran, Constitutional scholar, and retiring Justice of the United States', metadata={'source': 'https://python.langchain.com/v0.2/docs/integrations/vectorstores/pinecone/', 'title': 'Pinecone | \\uf8ffü¶úÔ∏è\\uf8ffüîó LangChain', 'description': 'Pinecone is a vector database with broad functionality.', 'language': 'en'}),\n",
       " Document(page_content='Tonight, I‚Äôd like to honor someone who has dedicated his life to serve this country: Justice Stephen Breyer‚Äîan Army veteran, Constitutional scholar, and retiring Justice of the United States Supreme Court. Justice Breyer, thank you for your service. One of the most serious constitutional responsibilities a President has is nominating someone to serve on the United States Supreme Court. And I did that 4 days ago, when I nominated Circuit Court of Appeals Judge Ketanji Brown Jackson. One of our nation‚Äôs top legal minds, who will continue Justice Breyer‚Äôs legacy of excellence.Adding More Text to an Existing Index‚ÄãMore text can embedded and upserted to an existing Pinecone index using the add_texts functionvectorstore = PineconeVectorStore(index_name=index_name, embedding=embeddings)vectorstore.add_texts([\"More text!\"])[\\'24631802-4bad-44a7-a4ba-fd71f00cc160\\']Maximal Marginal Relevance Searches‚ÄãIn addition to using similarity search in the retriever object, you can also use mmr', metadata={'source': 'https://python.langchain.com/v0.2/docs/integrations/vectorstores/pinecone/', 'title': 'Pinecone | \\uf8ffü¶úÔ∏è\\uf8ffüîó LangChain', 'description': 'Pinecone is a vector database with broad functionality.', 'language': 'en'}),\n",
       " Document(page_content='text!\"])[\\'24631802-4bad-44a7-a4ba-fd71f00cc160\\']Maximal Marginal Relevance Searches‚ÄãIn addition to using similarity search in the retriever object, you can also use mmr as retriever.retriever = docsearch.as_retriever(search_type=\"mmr\")matched_docs = retriever.invoke(query)for i, d in enumerate(matched_docs):    print(f\"\\\\n## Document {i}\\\\n\")    print(d.page_content)## Document 0Tonight. I call on the Senate to: Pass the Freedom to Vote Act. Pass the John Lewis Voting Rights Act. And while you‚Äôre at it, pass the Disclose Act so Americans can know who is funding our elections. Tonight, I‚Äôd like to honor someone who has dedicated his life to serve this country: Justice Stephen Breyer‚Äîan Army veteran, Constitutional scholar, and retiring Justice of the United States Supreme Court. Justice Breyer, thank you for your service. One of the most serious constitutional responsibilities a President has is nominating someone to serve on the United States Supreme Court. And I did that 4 days', metadata={'source': 'https://python.langchain.com/v0.2/docs/integrations/vectorstores/pinecone/', 'title': 'Pinecone | \\uf8ffü¶úÔ∏è\\uf8ffüîó LangChain', 'description': 'Pinecone is a vector database with broad functionality.', 'language': 'en'}),\n",
       " Document(page_content='Breyer, thank you for your service. One of the most serious constitutional responsibilities a President has is nominating someone to serve on the United States Supreme Court. And I did that 4 days ago, when I nominated Circuit Court of Appeals Judge Ketanji Brown Jackson. One of our nation‚Äôs top legal minds, who will continue Justice Breyer‚Äôs legacy of excellence.## Document 1And I‚Äôm taking robust action to make sure the pain of our sanctions  is targeted at Russia‚Äôs economy. And I will use every tool at our disposal to protect American businesses and consumers. Tonight, I can announce that the United States has worked with 30 other countries to release 60 Million barrels of oil from reserves around the world.  America will lead that effort, releasing 30 Million barrels from our own Strategic Petroleum Reserve. And we stand ready to do more if necessary, unified with our allies.  These steps will help blunt gas prices here at home. And I know the news about what‚Äôs happening', metadata={'source': 'https://python.langchain.com/v0.2/docs/integrations/vectorstores/pinecone/', 'title': 'Pinecone | \\uf8ffü¶úÔ∏è\\uf8ffüîó LangChain', 'description': 'Pinecone is a vector database with broad functionality.', 'language': 'en'}),\n",
       " Document(page_content='Strategic Petroleum Reserve. And we stand ready to do more if necessary, unified with our allies.  These steps will help blunt gas prices here at home. And I know the news about what‚Äôs happening can seem alarming. But I want you to know that we are going to be okay. When the history of this era is written Putin‚Äôs war on Ukraine will have left Russia weaker and the rest of the world stronger. While it shouldn‚Äôt have taken something so terrible for people around the world to see what‚Äôs at stake now everyone sees it clearly.## Document 2We can‚Äôt change how divided we‚Äôve been. But we can change how we move forward‚Äîon COVID-19 and other issues we must face together. I recently visited the New York City Police Department days after the funerals of Officer Wilbert Mora and his partner, Officer Jason Rivera. They were responding to a 9-1-1 call when a man shot and killed them with a stolen gun. Officer Mora was 27 years old. Officer Rivera was 22. Both Dominican Americans', metadata={'source': 'https://python.langchain.com/v0.2/docs/integrations/vectorstores/pinecone/', 'title': 'Pinecone | \\uf8ffü¶úÔ∏è\\uf8ffüîó LangChain', 'description': 'Pinecone is a vector database with broad functionality.', 'language': 'en'}),\n",
       " Document(page_content='partner, Officer Jason Rivera. They were responding to a 9-1-1 call when a man shot and killed them with a stolen gun. Officer Mora was 27 years old. Officer Rivera was 22. Both Dominican Americans who‚Äôd grown up on the same streets they later chose to patrol as police officers. I spoke with their families and told them that we are forever in debt for their sacrifice, and we will carry on their mission to restore the trust and safety every community deserves. I‚Äôve worked on these issues a long time. I know what works: Investing in crime prevention and community police officers who‚Äôll walk the beat, who‚Äôll know the neighborhood, and who can restore trust and safety.## Document 3One was stationed at bases and breathing in toxic smoke from ‚Äúburn pits‚Äù that incinerated wastes of war‚Äîmedical and hazard material, jet fuel, and more. When they came home, many of the world‚Äôs fittest and best trained warriors were never the same. Headaches. Numbness. Dizziness. A cancer that', metadata={'source': 'https://python.langchain.com/v0.2/docs/integrations/vectorstores/pinecone/', 'title': 'Pinecone | \\uf8ffü¶úÔ∏è\\uf8ffüîó LangChain', 'description': 'Pinecone is a vector database with broad functionality.', 'language': 'en'}),\n",
       " Document(page_content='war‚Äîmedical and hazard material, jet fuel, and more. When they came home, many of the world‚Äôs fittest and best trained warriors were never the same. Headaches. Numbness. Dizziness. A cancer that would put them in a flag-draped coffin. I know. One of those soldiers was my son Major Beau Biden. We don‚Äôt know for sure if a burn pit was the cause of his brain cancer, or the diseases of so many of our troops. But I‚Äôm committed to finding out everything we can. Committed to military families like Danielle Robinson from Ohio. The widow of Sergeant First Class Heath Robinson.  He was born a soldier. Army National Guard. Combat medic in Kosovo and Iraq. Stationed near Baghdad, just yards from burn pits the size of football fields. Heath‚Äôs widow Danielle is here with us tonight. They loved going to Ohio State football games. He loved building Legos with their daughter.Or use max_marginal_relevance_search directly:found_docs = docsearch.max_marginal_relevance_search(query, k=2,', metadata={'source': 'https://python.langchain.com/v0.2/docs/integrations/vectorstores/pinecone/', 'title': 'Pinecone | \\uf8ffü¶úÔ∏è\\uf8ffüîó LangChain', 'description': 'Pinecone is a vector database with broad functionality.', 'language': 'en'}),\n",
       " Document(page_content='loved going to Ohio State football games. He loved building Legos with their daughter.Or use max_marginal_relevance_search directly:found_docs = docsearch.max_marginal_relevance_search(query, k=2, fetch_k=10)for i, doc in enumerate(found_docs):    print(f\"{i + 1}.\", doc.page_content, \"\\\\n\")1. Tonight. I call on the Senate to: Pass the Freedom to Vote Act. Pass the John Lewis Voting Rights Act. And while you‚Äôre at it, pass the Disclose Act so Americans can know who is funding our elections. Tonight, I‚Äôd like to honor someone who has dedicated his life to serve this country: Justice Stephen Breyer‚Äîan Army veteran, Constitutional scholar, and retiring Justice of the United States Supreme Court. Justice Breyer, thank you for your service. One of the most serious constitutional responsibilities a President has is nominating someone to serve on the United States Supreme Court. And I did that 4 days ago, when I nominated Circuit Court of Appeals Judge Ketanji Brown Jackson. One of our', metadata={'source': 'https://python.langchain.com/v0.2/docs/integrations/vectorstores/pinecone/', 'title': 'Pinecone | \\uf8ffü¶úÔ∏è\\uf8ffüîó LangChain', 'description': 'Pinecone is a vector database with broad functionality.', 'language': 'en'}),\n",
       " Document(page_content='a President has is nominating someone to serve on the United States Supreme Court. And I did that 4 days ago, when I nominated Circuit Court of Appeals Judge Ketanji Brown Jackson. One of our nation‚Äôs top legal minds, who will continue Justice Breyer‚Äôs legacy of excellence. 2. We can‚Äôt change how divided we‚Äôve been. But we can change how we move forward‚Äîon COVID-19 and other issues we must face together. I recently visited the New York City Police Department days after the funerals of Officer Wilbert Mora and his partner, Officer Jason Rivera. They were responding to a 9-1-1 call when a man shot and killed them with a stolen gun. Officer Mora was 27 years old. Officer Rivera was 22. Both Dominican Americans who‚Äôd grown up on the same streets they later chose to patrol as police officers. I spoke with their families and told them that we are forever in debt for their sacrifice, and we will carry on their mission to restore the trust and safety every community deserves.', metadata={'source': 'https://python.langchain.com/v0.2/docs/integrations/vectorstores/pinecone/', 'title': 'Pinecone | \\uf8ffü¶úÔ∏è\\uf8ffüîó LangChain', 'description': 'Pinecone is a vector database with broad functionality.', 'language': 'en'}),\n",
       " Document(page_content='officers. I spoke with their families and told them that we are forever in debt for their sacrifice, and we will carry on their mission to restore the trust and safety every community deserves. I‚Äôve worked on these issues a long time. I know what works: Investing in crime prevention and community police officers who‚Äôll walk the beat, who‚Äôll know the neighborhood, and who can restore trust and safety.Edit this pageWas this page helpful?You can also leave detailed feedback on GitHub.PreviousPGVectorNextQdrantAdding More Text to an Existing IndexMaximal Marginal Relevance SearchesCommunityDiscordTwitterGitHubOrganizationPythonJS/TSMoreHomepageBlogYouTubeCopyright ¬© 2024 LangChain, Inc.', metadata={'source': 'https://python.langchain.com/v0.2/docs/integrations/vectorstores/pinecone/', 'title': 'Pinecone | \\uf8ffü¶úÔ∏è\\uf8ffüîó LangChain', 'description': 'Pinecone is a vector database with broad functionality.', 'language': 'en'})]"
      ]
     },
     "execution_count": 36,
     "metadata": {},
     "output_type": "execute_result"
    }
   ],
   "source": [
    "splits"
   ]
  },
  {
   "cell_type": "code",
   "execution_count": null,
   "metadata": {},
   "outputs": [],
   "source": []
  }
 ],
 "metadata": {
  "kernelspec": {
   "display_name": "rag",
   "language": "python",
   "name": "python3"
  },
  "language_info": {
   "codemirror_mode": {
    "name": "ipython",
    "version": 3
   },
   "file_extension": ".py",
   "mimetype": "text/x-python",
   "name": "python",
   "nbconvert_exporter": "python",
   "pygments_lexer": "ipython3",
   "version": "3.11.9"
  }
 },
 "nbformat": 4,
 "nbformat_minor": 2
}
